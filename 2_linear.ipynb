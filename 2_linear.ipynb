{
 "cells": [
  {
   "cell_type": "code",
   "execution_count": null,
   "metadata": {},
   "outputs": [],
   "source": [
    "import torch\n",
    "import numpy as np\n",
    "import matplotlib.pyplot as plt"
   ]
  },
  {
   "cell_type": "code",
   "execution_count": null,
   "metadata": {},
   "outputs": [],
   "source": [
    "x = torch.Tensor([1.4, 5, 11, 16 ,21])\n",
    "y = torch.Tensor([14.4, 29.6, 62, 85.5, 113.4])"
   ]
  },
  {
   "cell_type": "code",
   "execution_count": null,
   "metadata": {},
   "outputs": [],
   "source": [
    "plt.scatter(x.numpy(), y.numpy())"
   ]
  },
  {
   "cell_type": "code",
   "execution_count": null,
   "metadata": {},
   "outputs": [],
   "source": [
    "x0 = torch.ones(x.size())"
   ]
  },
  {
   "cell_type": "code",
   "execution_count": null,
   "metadata": {},
   "outputs": [],
   "source": [
    "x0"
   ]
  },
  {
   "cell_type": "code",
   "execution_count": null,
   "metadata": {},
   "outputs": [],
   "source": [
    "X = torch.stack((x,x0),1)"
   ]
  },
  {
   "cell_type": "code",
   "execution_count": null,
   "metadata": {},
   "outputs": [],
   "source": [
    "X"
   ]
  },
  {
   "cell_type": "code",
   "execution_count": null,
   "metadata": {},
   "outputs": [],
   "source": [
    "w = torch.rand(2,requires_grad=True)"
   ]
  },
  {
   "cell_type": "code",
   "execution_count": null,
   "metadata": {},
   "outputs": [],
   "source": [
    "w"
   ]
  },
  {
   "cell_type": "code",
   "execution_count": null,
   "metadata": {},
   "outputs": [],
   "source": [
    "inputs = X\n",
    "target = y"
   ]
  },
  {
   "cell_type": "code",
   "execution_count": null,
   "metadata": {},
   "outputs": [],
   "source": [
    "def train(epochs=1, learning_rate=0.01):\n",
    "    for epoch in range(epochs):\n",
    "        output = inputs.mv(w)\n",
    "        loss = (output - target).pow(2).sum()\n",
    "        loss.backward()\n",
    "        w.data -= learning_rate * w.grad\n",
    "        w.grad.zero_()\n",
    "        if epoch % 80 == 0:\n",
    "            draw(output, loss)\n",
    "    return w,loss"
   ]
  },
  {
   "cell_type": "code",
   "execution_count": null,
   "metadata": {},
   "outputs": [],
   "source": [
    "def draw(output, loss):\n",
    "    plt.cla()\n",
    "    plt.scatter(x.numpy(), y.numpy())\n",
    "    plt.plot(x.numpy(),output.data.numpy(), 'r-', lw=5)\n",
    "    plt.text(0.5, 0, 'loss=%s' % (loss.item()), fontdict={'size':20, 'color':'red'})\n",
    "    plt.pause(0.005)"
   ]
  },
  {
   "cell_type": "code",
   "execution_count": null,
   "metadata": {},
   "outputs": [],
   "source": [
    "w,loss = train(10000,learning_rate=1e-4)"
   ]
  },
  {
   "cell_type": "code",
   "execution_count": null,
   "metadata": {},
   "outputs": [],
   "source": [
    "w.data"
   ]
  },
  {
   "cell_type": "code",
   "execution_count": null,
   "metadata": {},
   "outputs": [],
   "source": [
    "loss"
   ]
  },
  {
   "cell_type": "code",
   "execution_count": null,
   "metadata": {},
   "outputs": [],
   "source": [
    "loss.item()"
   ]
  },
  {
   "cell_type": "code",
   "execution_count": null,
   "metadata": {},
   "outputs": [],
   "source": [
    "x.size(), x.numpy().size"
   ]
  },
  {
   "cell_type": "code",
   "execution_count": null,
   "metadata": {},
   "outputs": [],
   "source": [
    "def produce_x(x):\n",
    "    x0 = torch.ones(x.numpy().size)\n",
    "    X = torch.stack((x,x0),dim=1)\n",
    "    return X"
   ]
  },
  {
   "cell_type": "code",
   "execution_count": null,
   "metadata": {},
   "outputs": [],
   "source": [
    "x = torch.linspace(-3, 3, 100000)\n",
    "X = produce_x(x)\n",
    "y = x + 1.2*torch.rand(x.size())"
   ]
  },
  {
   "cell_type": "code",
   "execution_count": null,
   "metadata": {},
   "outputs": [],
   "source": [
    "plt.scatter(x.numpy(), y.numpy(), s=0.001)"
   ]
  },
  {
   "cell_type": "code",
   "execution_count": null,
   "metadata": {},
   "outputs": [],
   "source": [
    "inputs, target = X, y"
   ]
  },
  {
   "cell_type": "code",
   "execution_count": null,
   "metadata": {},
   "outputs": [],
   "source": [
    "def train(x, y, inputs, target, epochs=1, learning_rate=0.01):\n",
    "    count_x = inputs.numpy().shape[0]\n",
    "    w = torch.rand(inputs.numpy().shape[1])\n",
    "    w.requires_grad = True\n",
    "    for epoch in range(epochs):\n",
    "        output = inputs.mv(w)\n",
    "        loss = (output - target).pow(2).sum() / count_x\n",
    "        loss.backward()\n",
    "        w.data -= learning_rate * w.grad\n",
    "        w.grad.zero_()\n",
    "        \n",
    "        if epoch % 80 == 0:\n",
    "            draw(x, y, output, loss)\n",
    "    return w, loss\n",
    "\n",
    "def draw(x, y, output, loss):\n",
    "    plt.cla()\n",
    "    plt.scatter(x.numpy(), y.numpy())\n",
    "    plt.plot(x.numpy(), output.data.numpy(), 'r-', lw=5)\n",
    "    plt.text(0.5, 0, 'Loss=%s' % (loss.item()), fontdict={'size':20, 'color':'red'})\n",
    "    plt.pause(0.005)"
   ]
  },
  {
   "cell_type": "code",
   "execution_count": null,
   "metadata": {},
   "outputs": [],
   "source": [
    "w, loss = train(x, y, inputs, target, epochs=10000, learning_rate=1e-4)"
   ]
  }
 ],
 "metadata": {
  "kernelspec": {
   "display_name": "python36_10_mconda",
   "language": "python",
   "name": "python36_10_mconda"
  },
  "language_info": {
   "codemirror_mode": {
    "name": "ipython",
    "version": 3
   },
   "file_extension": ".py",
   "mimetype": "text/x-python",
   "name": "python",
   "nbconvert_exporter": "python",
   "pygments_lexer": "ipython3",
   "version": "3.6.10"
  }
 },
 "nbformat": 4,
 "nbformat_minor": 4
}
