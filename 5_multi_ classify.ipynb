{
 "cells": [
  {
   "cell_type": "code",
   "execution_count": null,
   "metadata": {},
   "outputs": [],
   "source": [
    "import torch\n",
    "import numpy as np\n",
    "from torch import nn, optim\n",
    "import matplotlib.pyplot as plt\n",
    "import torch.nn.functional as F"
   ]
  },
  {
   "cell_type": "code",
   "execution_count": null,
   "metadata": {},
   "outputs": [],
   "source": [
    "cluster = torch.ones(500, 2)"
   ]
  },
  {
   "cell_type": "code",
   "execution_count": null,
   "metadata": {},
   "outputs": [],
   "source": [
    "data0 = torch.normal(4*cluster, 2)\n",
    "data1 = torch.normal(-4*cluster, 1)\n",
    "data2 = torch.normal(-8*cluster, 1)\n",
    "\n",
    "label0 = torch.zeros(500)\n",
    "label1 = torch.ones(500)\n",
    "label2 = label1 * 2"
   ]
  },
  {
   "cell_type": "code",
   "execution_count": null,
   "metadata": {},
   "outputs": [],
   "source": [
    "x = torch.cat((data0, data1, data2))\n",
    "y = torch.cat((label0, label1, label2))\n",
    "x = torch.cat((x, torch.unsqueeze(y, dim=1)), dim=1)\n",
    "np.random.shuffle(x.numpy())"
   ]
  },
  {
   "cell_type": "code",
   "execution_count": null,
   "metadata": {},
   "outputs": [],
   "source": [
    "x"
   ]
  },
  {
   "cell_type": "code",
   "execution_count": null,
   "metadata": {},
   "outputs": [],
   "source": [
    "inputs = torch.tensor(x.numpy()[:,0:2])\n",
    "target = torch.tensor(x.numpy()[:,2]).type(torch.LongTensor)"
   ]
  },
  {
   "cell_type": "code",
   "execution_count": null,
   "metadata": {},
   "outputs": [],
   "source": [
    "plt.scatter(inputs.numpy()[:,0], inputs.numpy()[:,1], c=target.numpy(), s=10, cmap='brg')"
   ]
  },
  {
   "cell_type": "code",
   "execution_count": null,
   "metadata": {},
   "outputs": [],
   "source": [
    "draw(inputs, target, output)"
   ]
  },
  {
   "cell_type": "code",
   "execution_count": null,
   "metadata": {},
   "outputs": [],
   "source": [
    "class Net(nn.Module):\n",
    "    def __init__(self, inputs_n, hidden_n, outputs_n):\n",
    "        super(Net, self).__init__()\n",
    "        self.hidden = nn.Linear(inputs_n, hidden_n)\n",
    "        self.out = nn.Linear(hidden_n, outputs_n)\n",
    "    \n",
    "    def forward(self, x):\n",
    "        x = F.relu(self.hidden(x))\n",
    "        x = self.out(x)\n",
    "        x = F.softmax(x)\n",
    "        return x"
   ]
  },
  {
   "cell_type": "code",
   "execution_count": null,
   "metadata": {},
   "outputs": [],
   "source": [
    "def train(inputs, target, model, epochs=1, lr=0.02):\n",
    "    criterion = nn.CrossEntropyLoss()\n",
    "    optimizer = optim.SGD(model.parameters(), lr=lr)\n",
    "    for epoch in range(epochs):\n",
    "        output = model(inputs)\n",
    "        loss = criterion(output, target)\n",
    "        optimizer.zero_grad()\n",
    "        loss.backward()\n",
    "        optimizer.step()\n",
    "        if epoch % 100 == 0:\n",
    "            draw(inputs, target, output)\n",
    "    return model, loss, output\n",
    "\n",
    "def draw(inputs, target, output):\n",
    "    plt.cla()\n",
    "    output = torch.max((output), 1)[1]\n",
    "    pred_y = output.numpy()\n",
    "    target_y = target.numpy()\n",
    "    plt.scatter(inputs.numpy()[:,0], inputs.numpy()[:,1], c=pred_y, s=10, cmap='brg')\n",
    "    accuracy = sum(pred_y == target_y) / pred_y.size\n",
    "    plt.text(1.5, -4, 'Accuracy=%s' % (accuracy), fontdict={'size':20, 'color': 'red'})\n",
    "    plt.pause(0.05)"
   ]
  },
  {
   "cell_type": "code",
   "execution_count": null,
   "metadata": {},
   "outputs": [],
   "source": [
    "model = Net(inputs.numpy().shape[1], 20, 3)"
   ]
  },
  {
   "cell_type": "code",
   "execution_count": null,
   "metadata": {},
   "outputs": [],
   "source": [
    "criterion = nn.CrossEntropyLoss()\n",
    "optimizer = optim.SGD(model.parameters(), lr=0.02)"
   ]
  },
  {
   "cell_type": "code",
   "execution_count": null,
   "metadata": {},
   "outputs": [],
   "source": [
    "model, loss, output = train(inputs, target, model, 1)"
   ]
  }
 ],
 "metadata": {
  "kernelspec": {
   "display_name": "python36_10_mconda",
   "language": "python",
   "name": "python36_10_mconda"
  },
  "language_info": {
   "codemirror_mode": {
    "name": "ipython",
    "version": 3
   },
   "file_extension": ".py",
   "mimetype": "text/x-python",
   "name": "python",
   "nbconvert_exporter": "python",
   "pygments_lexer": "ipython3",
   "version": "3.6.10"
  }
 },
 "nbformat": 4,
 "nbformat_minor": 4
}
